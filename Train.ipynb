{
  "cells": [
    {
      "cell_type": "code",
      "execution_count": 1,
      "metadata": {
        "id": "8QdyBiNa5qO-",
        "outputId": "f172673a-f82b-4024-dca3-e4b2276cb79c",
        "colab": {
          "base_uri": "https://localhost:8080/"
        }
      },
      "outputs": [
        {
          "output_type": "stream",
          "name": "stdout",
          "text": [
            "Cloning into 'InsulatorDetSeg'...\n",
            "remote: Enumerating objects: 22, done.\u001b[K\n",
            "remote: Counting objects: 100% (22/22), done.\u001b[K\n",
            "remote: Compressing objects: 100% (16/16), done.\u001b[K\n",
            "remote: Total 22 (delta 8), reused 18 (delta 4), pack-reused 0\u001b[K\n",
            "Receiving objects: 100% (22/22), done.\n",
            "Resolving deltas: 100% (8/8), done.\n",
            "Cloning into 'InsulatorDataSet'...\n",
            "remote: Enumerating objects: 1964, done.\u001b[K\n",
            "remote: Total 1964 (delta 0), reused 0 (delta 0), pack-reused 1964\u001b[K\n",
            "Receiving objects: 100% (1964/1964), 387.92 MiB | 16.85 MiB/s, done.\n",
            "Resolving deltas: 100% (1094/1094), done.\n",
            "Updating files: 100% (1946/1946), done.\n",
            "\u001b[2K     \u001b[90m━━━━━━━━━━━━━━━━━━━━━━━━━━━━━━━━━━━━━━━\u001b[0m \u001b[32m612.0/612.0 kB\u001b[0m \u001b[31m8.2 MB/s\u001b[0m eta \u001b[36m0:00:00\u001b[0m\n",
            "\u001b[?25h"
          ]
        }
      ],
      "source": [
        "!git clone https://github.com/saeedzou/InsulatorDetSeg.git\n",
        "!git clone https://github.com/InsulatorData/InsulatorDataSet\n",
        "!pip -q install ultralytics\n",
        "from InsulatorDetSeg.utils import auto_generate_masks, convert_xywh_xyxy, generate_yolo_labels, get_unique_dims, make_train_valid\n",
        "from ultralytics import SAM, YOLO\n",
        "from ultralytics.models.sam import Predictor as SAMPredictor\n",
        "import numpy as np\n",
        "import matplotlib.pyplot as plt\n",
        "import cv2\n",
        "import os\n",
        "import random"
      ]
    },
    {
      "cell_type": "code",
      "source": [
        "root_path = '/content/InsulatorDataSet'\n",
        "generate_yolo_labels(root_path=root_path,\n",
        "                     xml_path='Normal_Insulators/labels',\n",
        "                     txt_path='Normal_Insulators/labels')\n",
        "generate_yolo_labels(root_path=root_path,\n",
        "                     xml_path='Defective_Insulators/labels/insulator',\n",
        "                     txt_path='Defective_Insulators/labels')"
      ],
      "metadata": {
        "id": "GbVlcB9r5t7p"
      },
      "execution_count": 2,
      "outputs": []
    },
    {
      "cell_type": "code",
      "source": [
        "make_train_valid(root='/content/InsulatorDataSet', val_size=0.2)"
      ],
      "metadata": {
        "id": "WPkuaGoS9GVV"
      },
      "execution_count": 3,
      "outputs": []
    },
    {
      "cell_type": "code",
      "source": [
        "%%writefile CLIPD_v8.yaml\n",
        "path: '/content/InsulatorDataSet/'\n",
        "train: 'train/images'\n",
        "val: 'valid/images'\n",
        "\n",
        "# class names\n",
        "names:\n",
        "    0: 'insulator'"
      ],
      "metadata": {
        "id": "ewTOaTajAW2I",
        "outputId": "c7b62a53-6cb6-4ed8-8897-851963a44a01",
        "colab": {
          "base_uri": "https://localhost:8080/"
        }
      },
      "execution_count": 9,
      "outputs": [
        {
          "output_type": "stream",
          "name": "stdout",
          "text": [
            "Overwriting CLIPD_v8.yaml\n"
          ]
        }
      ]
    },
    {
      "cell_type": "code",
      "source": [
        "# Create SAMPredictor\n",
        "overrides = dict(conf=0.4, task='segment', mode='predict', model=\"mobile_sam.pt\", imgsz=1152, verbose=False)\n",
        "predictor = SAMPredictor(overrides=overrides)"
      ],
      "metadata": {
        "id": "tE3GAnAXA_m6"
      },
      "execution_count": 5,
      "outputs": []
    },
    {
      "cell_type": "code",
      "source": [
        "HEIGHT = 864\n",
        "WIDTH = 1152\n",
        "auto_generate_masks(root='/content/InsulatorDataSet',\n",
        "                    split='train',\n",
        "                    sam_predictor=predictor,\n",
        "                    height=HEIGHT,\n",
        "                    width=WIDTH)\n",
        "auto_generate_masks(root='/content/InsulatorDataSet',\n",
        "                    split='valid',\n",
        "                    sam_predictor=predictor,\n",
        "                    height=HEIGHT,\n",
        "                    width=WIDTH)"
      ],
      "metadata": {
        "id": "l4akTfI6BB_w"
      },
      "execution_count": null,
      "outputs": []
    },
    {
      "cell_type": "code",
      "source": [
        "# train YOLO detection model\n",
        "model = YOLO('yolov8m-seg.pt')\n",
        "# train model for 5 epochs using CLIPD_v8.yaml dataset\n",
        "model.train(data='/content/CLIPD_v8.yaml', epochs=7)\n",
        "\n",
        "valid_results = model.val()\n",
        "print(valid_results)"
      ],
      "metadata": {
        "id": "Cs4Ns2bgBmmr",
        "outputId": "fd19614b-a10b-4685-8386-11eb913e0fc5",
        "colab": {
          "base_uri": "https://localhost:8080/"
        }
      },
      "execution_count": 10,
      "outputs": [
        {
          "output_type": "stream",
          "name": "stderr",
          "text": [
            "Ultralytics YOLOv8.0.156 🚀 Python-3.10.12 torch-2.0.1+cu118 CUDA:0 (Tesla T4, 15102MiB)\n",
            "\u001b[34m\u001b[1mengine/trainer: \u001b[0mtask=segment, mode=train, model=yolov8m-seg.pt, data=/content/CLIPD_v8.yaml, epochs=7, patience=50, batch=16, imgsz=640, save=True, save_period=-1, cache=False, device=None, workers=8, project=None, name=None, exist_ok=False, pretrained=True, optimizer=auto, verbose=True, seed=0, deterministic=True, single_cls=False, rect=False, cos_lr=False, close_mosaic=10, resume=False, amp=True, fraction=1.0, profile=False, freeze=None, overlap_mask=True, mask_ratio=4, dropout=0.0, val=True, split=val, save_json=False, save_hybrid=False, conf=None, iou=0.7, max_det=300, half=False, dnn=False, plots=True, source=None, show=False, save_txt=False, save_conf=False, save_crop=False, show_labels=True, show_conf=True, vid_stride=1, line_width=None, visualize=False, augment=False, agnostic_nms=False, classes=None, retina_masks=False, boxes=True, format=torchscript, keras=False, optimize=False, int8=False, dynamic=False, simplify=False, opset=None, workspace=4, nms=False, lr0=0.01, lrf=0.01, momentum=0.937, weight_decay=0.0005, warmup_epochs=3.0, warmup_momentum=0.8, warmup_bias_lr=0.1, box=7.5, cls=0.5, dfl=1.5, pose=12.0, kobj=1.0, label_smoothing=0.0, nbs=64, hsv_h=0.015, hsv_s=0.7, hsv_v=0.4, degrees=0.0, translate=0.1, scale=0.5, shear=0.0, perspective=0.0, flipud=0.0, fliplr=0.5, mosaic=1.0, mixup=0.0, copy_paste=0.0, cfg=None, tracker=botsort.yaml, save_dir=runs/segment/train3\n",
            "Downloading https://ultralytics.com/assets/Arial.ttf to '/root/.config/Ultralytics/Arial.ttf'...\n",
            "100%|██████████| 755k/755k [00:00<00:00, 128MB/s]\n",
            "Overriding model.yaml nc=80 with nc=1\n",
            "\n",
            "                   from  n    params  module                                       arguments                     \n",
            "  0                  -1  1      1392  ultralytics.nn.modules.conv.Conv             [3, 48, 3, 2]                 \n",
            "  1                  -1  1     41664  ultralytics.nn.modules.conv.Conv             [48, 96, 3, 2]                \n",
            "  2                  -1  2    111360  ultralytics.nn.modules.block.C2f             [96, 96, 2, True]             \n",
            "  3                  -1  1    166272  ultralytics.nn.modules.conv.Conv             [96, 192, 3, 2]               \n",
            "  4                  -1  4    813312  ultralytics.nn.modules.block.C2f             [192, 192, 4, True]           \n",
            "  5                  -1  1    664320  ultralytics.nn.modules.conv.Conv             [192, 384, 3, 2]              \n",
            "  6                  -1  4   3248640  ultralytics.nn.modules.block.C2f             [384, 384, 4, True]           \n",
            "  7                  -1  1   1991808  ultralytics.nn.modules.conv.Conv             [384, 576, 3, 2]              \n",
            "  8                  -1  2   3985920  ultralytics.nn.modules.block.C2f             [576, 576, 2, True]           \n",
            "  9                  -1  1    831168  ultralytics.nn.modules.block.SPPF            [576, 576, 5]                 \n",
            " 10                  -1  1         0  torch.nn.modules.upsampling.Upsample         [None, 2, 'nearest']          \n",
            " 11             [-1, 6]  1         0  ultralytics.nn.modules.conv.Concat           [1]                           \n",
            " 12                  -1  2   1993728  ultralytics.nn.modules.block.C2f             [960, 384, 2]                 \n",
            " 13                  -1  1         0  torch.nn.modules.upsampling.Upsample         [None, 2, 'nearest']          \n",
            " 14             [-1, 4]  1         0  ultralytics.nn.modules.conv.Concat           [1]                           \n",
            " 15                  -1  2    517632  ultralytics.nn.modules.block.C2f             [576, 192, 2]                 \n",
            " 16                  -1  1    332160  ultralytics.nn.modules.conv.Conv             [192, 192, 3, 2]              \n",
            " 17            [-1, 12]  1         0  ultralytics.nn.modules.conv.Concat           [1]                           \n",
            " 18                  -1  2   1846272  ultralytics.nn.modules.block.C2f             [576, 384, 2]                 \n",
            " 19                  -1  1   1327872  ultralytics.nn.modules.conv.Conv             [384, 384, 3, 2]              \n",
            " 20             [-1, 9]  1         0  ultralytics.nn.modules.conv.Concat           [1]                           \n",
            " 21                  -1  2   4207104  ultralytics.nn.modules.block.C2f             [960, 576, 2]                 \n",
            " 22        [15, 18, 21]  1   5159603  ultralytics.nn.modules.head.Segment          [1, 32, 192, [192, 384, 576]] \n",
            "YOLOv8m-seg summary: 331 layers, 27240227 parameters, 27240211 gradients\n",
            "\n",
            "Transferred 531/537 items from pretrained weights\n",
            "\u001b[34m\u001b[1mTensorBoard: \u001b[0mStart with 'tensorboard --logdir runs/segment/train3', view at http://localhost:6006/\n",
            "Freezing layer 'model.22.dfl.conv.weight'\n",
            "\u001b[34m\u001b[1mAMP: \u001b[0mrunning Automatic Mixed Precision (AMP) checks with YOLOv8n...\n",
            "Downloading https://github.com/ultralytics/assets/releases/download/v0.0.0/yolov8n.pt to 'yolov8n.pt'...\n",
            "100%|██████████| 6.23M/6.23M [00:00<00:00, 163MB/s]\n",
            "\u001b[34m\u001b[1mAMP: \u001b[0mchecks passed ✅\n",
            "\u001b[34m\u001b[1mtrain: \u001b[0mScanning /content/InsulatorDataSet/train/labels... 679 images, 0 backgrounds, 0 corrupt: 100%|██████████| 679/679 [00:00<00:00, 717.37it/s]\n",
            "\u001b[34m\u001b[1mtrain: \u001b[0mNew cache created: /content/InsulatorDataSet/train/labels.cache\n",
            "\u001b[34m\u001b[1malbumentations: \u001b[0mBlur(p=0.01, blur_limit=(3, 7)), MedianBlur(p=0.01, blur_limit=(3, 7)), ToGray(p=0.01), CLAHE(p=0.01, clip_limit=(1, 4.0), tile_grid_size=(8, 8))\n",
            "\u001b[34m\u001b[1mval: \u001b[0mScanning /content/InsulatorDataSet/valid/labels... 169 images, 0 backgrounds, 0 corrupt: 100%|██████████| 169/169 [00:00<00:00, 274.21it/s]\n",
            "\u001b[34m\u001b[1mval: \u001b[0mNew cache created: /content/InsulatorDataSet/valid/labels.cache\n",
            "Plotting labels to runs/segment/train3/labels.jpg... \n",
            "\u001b[34m\u001b[1moptimizer:\u001b[0m AdamW(lr=0.002, momentum=0.9) with parameter groups 86 weight(decay=0.0), 97 weight(decay=0.0005), 96 bias(decay=0.0)\n",
            "Image sizes 640 train, 640 val\n",
            "Using 2 dataloader workers\n",
            "Logging results to \u001b[1mruns/segment/train3\u001b[0m\n",
            "Starting training for 7 epochs...\n",
            "\n",
            "      Epoch    GPU_mem   box_loss   seg_loss   cls_loss   dfl_loss  Instances       Size\n",
            "        1/7      8.18G     0.9905      1.342      1.517      1.186         15        640: 100%|██████████| 43/43 [00:39<00:00,  1.08it/s]\n",
            "                 Class     Images  Instances      Box(P          R      mAP50  mAP50-95)     Mask(P          R      mAP50  mAP50-95): 100%|██████████| 6/6 [00:05<00:00,  1.19it/s]\n",
            "                   all        169        169      0.535      0.905      0.548      0.324      0.545      0.923      0.557      0.446\n",
            "\n",
            "      Epoch    GPU_mem   box_loss   seg_loss   cls_loss   dfl_loss  Instances       Size\n",
            "        2/7      8.11G      1.039     0.9798     0.9659      1.176         15        640: 100%|██████████| 43/43 [00:33<00:00,  1.30it/s]\n",
            "                 Class     Images  Instances      Box(P          R      mAP50  mAP50-95)     Mask(P          R      mAP50  mAP50-95): 100%|██████████| 6/6 [00:05<00:00,  1.11it/s]\n",
            "                   all        169        169    0.00258      0.544    0.00213   0.000637   0.000259     0.0592   0.000139    6.5e-05\n",
            "\n",
            "      Epoch    GPU_mem   box_loss   seg_loss   cls_loss   dfl_loss  Instances       Size\n",
            "        3/7      8.13G     0.9712      1.055      0.853      1.155         12        640: 100%|██████████| 43/43 [00:32<00:00,  1.34it/s]\n",
            "                 Class     Images  Instances      Box(P          R      mAP50  mAP50-95)     Mask(P          R      mAP50  mAP50-95): 100%|██████████| 6/6 [00:05<00:00,  1.14it/s]\n",
            "                   all        169        169      0.114      0.207     0.0593     0.0311      0.118      0.207     0.0588     0.0339\n",
            "\n",
            "      Epoch    GPU_mem   box_loss   seg_loss   cls_loss   dfl_loss  Instances       Size\n",
            "        4/7      8.15G     0.9334      1.028     0.8125      1.142         18        640: 100%|██████████| 43/43 [00:31<00:00,  1.36it/s]\n",
            "                 Class     Images  Instances      Box(P          R      mAP50  mAP50-95)     Mask(P          R      mAP50  mAP50-95): 100%|██████████| 6/6 [00:04<00:00,  1.27it/s]\n",
            "                   all        169        169      0.272     0.0651     0.0647     0.0288      0.135     0.0947     0.0446     0.0282\n",
            "\n",
            "      Epoch    GPU_mem   box_loss   seg_loss   cls_loss   dfl_loss  Instances       Size\n",
            "        5/7      8.13G      0.883     0.8537     0.7495      1.119         22        640: 100%|██████████| 43/43 [00:31<00:00,  1.35it/s]\n",
            "                 Class     Images  Instances      Box(P          R      mAP50  mAP50-95)     Mask(P          R      mAP50  mAP50-95): 100%|██████████| 6/6 [00:05<00:00,  1.04it/s]\n",
            "                   all        169        169      0.712      0.757      0.767      0.552      0.718      0.763       0.78      0.615\n",
            "\n",
            "      Epoch    GPU_mem   box_loss   seg_loss   cls_loss   dfl_loss  Instances       Size\n",
            "        6/7      8.11G     0.7998     0.8634      0.666      1.096         17        640: 100%|██████████| 43/43 [00:31<00:00,  1.36it/s]\n",
            "                 Class     Images  Instances      Box(P          R      mAP50  mAP50-95)     Mask(P          R      mAP50  mAP50-95): 100%|██████████| 6/6 [00:06<00:00,  1.01s/it]\n",
            "                   all        169        169       0.92      0.941      0.954      0.789       0.92      0.941      0.954      0.808\n",
            "\n",
            "      Epoch    GPU_mem   box_loss   seg_loss   cls_loss   dfl_loss  Instances       Size\n",
            "        7/7      8.42G     0.7068     0.8373     0.6299      1.061         12        640: 100%|██████████| 43/43 [00:31<00:00,  1.37it/s]\n",
            "                 Class     Images  Instances      Box(P          R      mAP50  mAP50-95)     Mask(P          R      mAP50  mAP50-95): 100%|██████████| 6/6 [00:10<00:00,  1.70s/it]\n",
            "                   all        169        169      0.952      0.964       0.96      0.804      0.952      0.964      0.964      0.836\n",
            "\n",
            "7 epochs completed in 0.085 hours.\n",
            "Optimizer stripped from runs/segment/train3/weights/last.pt, 54.8MB\n",
            "Optimizer stripped from runs/segment/train3/weights/best.pt, 54.8MB\n",
            "\n",
            "Validating runs/segment/train3/weights/best.pt...\n",
            "Ultralytics YOLOv8.0.156 🚀 Python-3.10.12 torch-2.0.1+cu118 CUDA:0 (Tesla T4, 15102MiB)\n",
            "YOLOv8m-seg summary (fused): 245 layers, 27222963 parameters, 0 gradients\n",
            "                 Class     Images  Instances      Box(P          R      mAP50  mAP50-95)     Mask(P          R      mAP50  mAP50-95): 100%|██████████| 6/6 [00:08<00:00,  1.39s/it]\n",
            "                   all        169        169      0.952      0.964      0.961      0.804      0.952      0.964      0.964      0.836\n",
            "Speed: 3.0ms preprocess, 9.2ms inference, 0.0ms loss, 2.4ms postprocess per image\n",
            "Results saved to \u001b[1mruns/segment/train3\u001b[0m\n",
            "Ultralytics YOLOv8.0.156 🚀 Python-3.10.12 torch-2.0.1+cu118 CUDA:0 (Tesla T4, 15102MiB)\n",
            "YOLOv8m-seg summary (fused): 245 layers, 27222963 parameters, 0 gradients\n",
            "\u001b[34m\u001b[1mval: \u001b[0mScanning /content/InsulatorDataSet/valid/labels.cache... 169 images, 0 backgrounds, 0 corrupt: 100%|██████████| 169/169 [00:00<?, ?it/s]\n",
            "                 Class     Images  Instances      Box(P          R      mAP50  mAP50-95)     Mask(P          R      mAP50  mAP50-95): 100%|██████████| 11/11 [00:11<00:00,  1.06s/it]\n",
            "                   all        169        169      0.952      0.964      0.961      0.804      0.952      0.964      0.964      0.836\n",
            "Speed: 3.4ms preprocess, 24.0ms inference, 0.0ms loss, 3.0ms postprocess per image\n",
            "Results saved to \u001b[1mruns/segment/val\u001b[0m\n"
          ]
        },
        {
          "output_type": "stream",
          "name": "stdout",
          "text": [
            "ultralytics.utils.metrics.SegmentMetrics object with attributes:\n",
            "\n",
            "ap_class_index: array([0])\n",
            "box: ultralytics.utils.metrics.Metric object\n",
            "confusion_matrix: <ultralytics.utils.metrics.ConfusionMatrix object at 0x7b59a447df00>\n",
            "fitness: 1.668823908501217\n",
            "keys: ['metrics/precision(B)', 'metrics/recall(B)', 'metrics/mAP50(B)', 'metrics/mAP50-95(B)', 'metrics/precision(M)', 'metrics/recall(M)', 'metrics/mAP50(M)', 'metrics/mAP50-95(M)']\n",
            "maps: array([     1.6404])\n",
            "names: {0: 'insulator'}\n",
            "plot: True\n",
            "results_dict: {'metrics/precision(B)': 0.9519243029788266, 'metrics/recall(B)': 0.9644970414201184, 'metrics/mAP50(B)': 0.9607701221110853, 'metrics/mAP50-95(B)': 0.8044975187576391, 'metrics/precision(M)': 0.9519243029788266, 'metrics/recall(M)': 0.9644970414201184, 'metrics/mAP50(M)': 0.9641642804917671, 'metrics/mAP50-95(M)': 0.8358696681767297, 'fitness': 1.668823908501217}\n",
            "save_dir: PosixPath('runs/segment/val')\n",
            "seg: ultralytics.utils.metrics.Metric object\n",
            "speed: {'preprocess': 3.358828245535405, 'inference': 24.017487757304718, 'loss': 0.0015673552744487334, 'postprocess': 2.9948928652430427}\n"
          ]
        }
      ]
    }
  ],
  "metadata": {
    "language_info": {
      "name": "python"
    },
    "orig_nbformat": 4,
    "colab": {
      "provenance": [],
      "gpuType": "T4"
    },
    "accelerator": "GPU",
    "kernelspec": {
      "name": "python3",
      "display_name": "Python 3"
    }
  },
  "nbformat": 4,
  "nbformat_minor": 0
}